{
 "cells": [
  {
   "cell_type": "code",
   "execution_count": 13,
   "id": "daabf894",
   "metadata": {},
   "outputs": [],
   "source": [
    "import sqlite3\n",
    "import pandas as pd\n",
    "import matplotlib.pyplot as plt\n",
    "%matplotlib inline"
   ]
  },
  {
   "cell_type": "markdown",
   "id": "5b40327b",
   "metadata": {},
   "source": [
    "Printing/output settings"
   ]
  },
  {
   "cell_type": "code",
   "execution_count": 14,
   "id": "9ea8e39a",
   "metadata": {},
   "outputs": [],
   "source": [
    "pd.set_option('display.max_colwidth', None)"
   ]
  },
  {
   "cell_type": "markdown",
   "id": "618583f0",
   "metadata": {},
   "source": [
    "# Explanatory Data Analysis"
   ]
  },
  {
   "cell_type": "markdown",
   "id": "74a78f41",
   "metadata": {},
   "source": [
    "### Load data"
   ]
  },
  {
   "cell_type": "markdown",
   "id": "853d209a",
   "metadata": {},
   "source": [
    "We will load only positives reviews (rating > 3) from the database."
   ]
  },
  {
   "cell_type": "code",
   "execution_count": 36,
   "id": "ea5f3458",
   "metadata": {},
   "outputs": [],
   "source": [
    "reviews = pd.read_sql(f\"\"\"\n",
    "    SELECT podcast_id, author_id, rating, reviews.created_at , reviews.title, reviews.content \n",
    "    FROM reviews\n",
    "    Where rating > 3\n",
    "\"\"\", sqlite3.connect(\"initial_data/database.sqlite\"))\n",
    "\n",
    "podcast_w_category = pd.read_sql(f\"\"\"\n",
    "    SELECT podcast_id, title as p_title, category\n",
    "    FROM categories JOIN podcasts USING (podcast_id)\n",
    "\"\"\", sqlite3.connect(\"initial_data/database.sqlite\"))"
   ]
  },
  {
   "cell_type": "markdown",
   "id": "b0891918",
   "metadata": {},
   "source": [
    "Each podcast has multiple categories so we will concatenate them \n",
    "into a single string and will handle them as a single category for now."
   ]
  },
  {
   "cell_type": "code",
   "execution_count": 37,
   "id": "7c73143e",
   "metadata": {},
   "outputs": [],
   "source": [
    "# for each podcast, concatenate all categories once you sort them\n",
    "podcast_w_category = podcast_w_category.groupby(\"podcast_id\").agg({\"p_title\": \"first\", \"category\": lambda x: \"#\".join(sorted(x))}).reset_index()\n",
    "\n",
    "# sort by aurhor_id, podcast_id and created_at\n",
    "reviews = reviews.sort_values(by=['author_id', 'podcast_id', 'created_at'])"
   ]
  },
  {
   "cell_type": "markdown",
   "id": "ca5004d3",
   "metadata": {},
   "source": [
    "### Removing duplicates reviews\n",
    "Users might review a podcast more than once. We keep only the latest review."
   ]
  },
  {
   "cell_type": "code",
   "execution_count": 38,
   "id": "5fece4e1",
   "metadata": {},
   "outputs": [
    {
     "name": "stdout",
     "output_type": "stream",
     "text": [
      "Removed 59619 duplicates ~ 0.033% of total reviews\n"
     ]
    }
   ],
   "source": [
    "# check if there are any duplicates\n",
    "duplicates = reviews.duplicated(subset=['author_id','podcast_id'], keep='last')\n",
    "total_duplicates = duplicates.shape[0] - (duplicates.shape[0] - duplicates.sum())\n",
    "\n",
    "# remove based on boolean mask\n",
    "reviews = reviews[~duplicates]\n",
    "print(f'Removed {total_duplicates} duplicates ~ {round(duplicates.sum()/duplicates.shape[0],3)}% of total reviews')"
   ]
  },
  {
   "cell_type": "markdown",
   "id": "788ea290",
   "metadata": {},
   "source": [
    "### Removing reviews with podcast_id not in podcasts table\n",
    "There are reviews that their podcast id is not in the podcast table so we do not have any info about them."
   ]
  },
  {
   "cell_type": "code",
   "execution_count": 39,
   "id": "af490eac",
   "metadata": {},
   "outputs": [
    {
     "name": "stdout",
     "output_type": "stream",
     "text": [
      "Removed 21579 reviews ~ 0.012% of total reviews\n"
     ]
    }
   ],
   "source": [
    "# get all podcast ids in podcast_w_category\n",
    "pod_id_in_table = podcast_w_category['podcast_id'].unique()\n",
    "# remove all author ids that are in reviews but not in podcast_w_category\n",
    "before = reviews.shape[0]\n",
    "reviews = reviews[reviews['podcast_id'].isin(pod_id_in_table)]\n",
    "after = reviews.shape[0]\n",
    "print(f'Removed {before - after} reviews ~ {round((before - after)/before,3)}% of total reviews')"
   ]
  },
  {
   "cell_type": "markdown",
   "id": "461642cd",
   "metadata": {},
   "source": [
    "### Keeping only authors with more than N reviews"
   ]
  },
  {
   "cell_type": "code",
   "execution_count": 42,
   "id": "5024d861",
   "metadata": {},
   "outputs": [],
   "source": [
    "# Keep only authors with at least K reviews\n",
    "K = [4, 5, 6, 7, 8, 9, 10]\n",
    "info = []\n",
    "K = 4\n",
    "reviews = reviews.groupby('author_id').filter(lambda x: len(x) >= K)\n",
    "\n"
   ]
  },
  {
   "cell_type": "code",
   "execution_count": 19,
   "id": "6d579cb9",
   "metadata": {},
   "outputs": [],
   "source": [
    "# Keep only authors with at least K reviews\n",
    "K = 5\n",
    "reviews = reviews.groupby('author_id').filter(lambda x: len(x) >= K)"
   ]
  },
  {
   "cell_type": "code",
   "execution_count": 20,
   "id": "6bbcdbe4",
   "metadata": {},
   "outputs": [
    {
     "name": "stdout",
     "output_type": "stream",
     "text": [
      "Unique authors: 18551\n",
      "Unique reviews: 156646\n"
     ]
    }
   ],
   "source": [
    "# print unique authors and reviews\n",
    "print(f'Unique authors: {reviews[\"author_id\"].unique().shape[0]}')\n",
    "print(f'Unique reviews: {reviews.shape[0]}')"
   ]
  },
  {
   "cell_type": "markdown",
   "id": "d87f930c",
   "metadata": {},
   "source": [
    "### Creating the final dataset"
   ]
  },
  {
   "cell_type": "code",
   "execution_count": 21,
   "id": "7fe7e0fc",
   "metadata": {},
   "outputs": [],
   "source": [
    "# merge reviews with podcast_w_category\n",
    "reviews_w_podcast_w_category = reviews.merge(podcast_w_category, on='podcast_id', how='inner')\n",
    "# keep only the columns we need\n",
    "reviews_w_podcast_w_category = reviews_w_podcast_w_category[['author_id', 'podcast_id', 'p_title', 'category', 'rating', 'created_at']]\n",
    "reviews_w_podcast_w_category = reviews_w_podcast_w_category.sort_values(by=['author_id', 'created_at'], ascending=False)"
   ]
  },
  {
   "cell_type": "code",
   "execution_count": 35,
   "id": "31bc8293",
   "metadata": {},
   "outputs": [
    {
     "name": "stdout",
     "output_type": "stream",
     "text": [
      "Unique authors: 18551\n"
     ]
    }
   ],
   "source": [
    "# print unique authors\n",
    "print(f'Unique authors: {reviews_w_podcast_w_category[\"author_id\"].unique().shape[0]}')"
   ]
  },
  {
   "cell_type": "code",
   "execution_count": 22,
   "id": "5a3eafd6",
   "metadata": {},
   "outputs": [],
   "source": [
    "# clean memory\n",
    "del  reviews\n",
    "del podcast_w_category"
   ]
  },
  {
   "cell_type": "markdown",
   "id": "9688a50d",
   "metadata": {},
   "source": [
    "Cluster based on the K most recent reviews\\\n",
    "We will represent each author as a vector of size K, where each element is a podcast category\\\n",
    "We will use KModes to cluster the authors\n"
   ]
  },
  {
   "cell_type": "markdown",
   "id": "a20a44de",
   "metadata": {},
   "source": [
    "### Clustering"
   ]
  },
  {
   "cell_type": "code",
   "execution_count": 23,
   "id": "2fe0f45c",
   "metadata": {},
   "outputs": [],
   "source": [
    "def prepare_data_for_clustering(data, K):\n",
    "    \"\"\"\n",
    "    data: dataframe with columns author_id, podcast_id, p_title, category, rating, created_at\n",
    "    K: number of most recent reviews to consider\n",
    "    \"\"\"\n",
    "    # get the K most recent reviews for each author\n",
    "    data = data.copy()\n",
    "    data = data.groupby('author_id').head(K)\n",
    "    authors = data['author_id'].unique()\n",
    "    total_authors = authors.shape[0]\n",
    "    print(f'Unique authors: {total_authors} with >={K} reviews')\n",
    "\n",
    "    # get the most frequent categories\n",
    "    category_freq = reviews_w_podcast_w_category['category'].str.split('#').explode().value_counts().to_dict()\n",
    "\n",
    "    # For each podcast category split the concatenated string into a list of categories and keep the \n",
    "    # most frequent category as the category of the podcast\n",
    "    data = data[['author_id', 'category', 'created_at']]\n",
    "    data['category'] = data['category'].str.split('#').apply(lambda x: max(x, key=lambda y: category_freq[y]))\n",
    "    \n",
    "\n",
    "    # represent each author as a vector of K categories\n",
    "    matrix_K_categories = pd.DataFrame(index=authors, columns=['category_' + str(i) for i in range(K)])\n",
    "    matrix_K_categories = matrix_K_categories.fillna(\"empty\")\n",
    "    # fill the matrix with the average rating of the author for the podcast title in order\n",
    "    for index, author in enumerate (authors):\n",
    "        index = index + 1\n",
    "        categories = data[data['author_id'] == author]['category'].values\n",
    "        for i in range(K):\n",
    "            matrix_K_categories.loc[author, 'category_' + str(i)] = categories[i]\n",
    "        if index % 3000 == 0:\n",
    "            print(f'{index} authors processed')    \n",
    "\n",
    "\n",
    "    return matrix_K_categories"
   ]
  },
  {
   "cell_type": "code",
   "execution_count": 24,
   "id": "92154a91",
   "metadata": {},
   "outputs": [],
   "source": [
    "# matrix_K_categories = prepare_data_for_clustering(reviews_w_podcast_w_category, 5)"
   ]
  },
  {
   "cell_type": "code",
   "execution_count": 25,
   "id": "ae12382e",
   "metadata": {},
   "outputs": [],
   "source": [
    "def clustering(data, num_of_clusters, plot=False):\n",
    "    # Categorical data clustering\n",
    "    # Check source: https://www.analyticsvidhya.com/blog/2021/06/kmodes-clustering-algorithm-for-categorical-data/\n",
    "    # Check source: https://medium.com/geekculture/the-k-modes-as-clustering-algorithm-for-categorical-data-type-bcde8f95efd7\n",
    "\n",
    "    data = data.astype('str')\n",
    "\n",
    "    from kmodes.kmodes import KModes\n",
    "    import matplotlib.pyplot as plt\n",
    "    import numpy as np\n",
    "\n",
    "    centroids = None\n",
    "\n",
    "    import time\n",
    "\n",
    "    start_time = time.time()\n",
    "    # create a KMeans instance with k clusters\n",
    "    kmodes = KModes(n_clusters=num_of_clusters, init = 'random', verbose=0 , max_iter=100, n_jobs=1, random_state=42)\n",
    "    # fit the model to the matrix\n",
    "    kmodes.fit(data)\n",
    "    end_time = time.time()\n",
    "    # info about the clustering\n",
    "    print(f\"For K: {num_of_clusters} and init method random-> Max iterations: {kmodes.n_iter_}  Cost: {kmodes.cost_} Time: {round((end_time - start_time)/60,3)} minutes\")\n",
    "    # get centroids\n",
    "    centroids = kmodes.cluster_centroids_\n",
    "    #print(f\"Centroids: {centroids}\")\n",
    "    # get labels\n",
    "    data['cluster'] = kmodes.labels_\n",
    "\n",
    "    data = data.reset_index()\n",
    "    data = data.rename(columns={'index': 'author_id'})\n",
    "    data = data[['author_id', 'cluster']]\n",
    "    cost = kmodes.cost_\n",
    "    return data, centroids, cost\n"
   ]
  },
  {
   "cell_type": "code",
   "execution_count": 26,
   "id": "dc1343df",
   "metadata": {},
   "outputs": [
    {
     "name": "stdout",
     "output_type": "stream",
     "text": [
      "Unique authors: 18551 with >=5 reviews\n",
      "3000 authors processed\n",
      "6000 authors processed\n",
      "9000 authors processed\n",
      "12000 authors processed\n",
      "15000 authors processed\n",
      "18000 authors processed\n",
      "Clustering for K=1\n",
      "For K: 1 and init method random-> Max iterations: 1  Cost: 72413.0 Time: 0.371 minutes\n",
      "Clustering for K=2\n",
      "For K: 2 and init method random-> Max iterations: 1  Cost: 64461.0 Time: 0.486 minutes\n",
      "Clustering for K=3\n",
      "For K: 3 and init method random-> Max iterations: 2  Cost: 58311.0 Time: 0.601 minutes\n",
      "Clustering for K=4\n",
      "For K: 4 and init method random-> Max iterations: 3  Cost: 55773.0 Time: 0.659 minutes\n",
      "Clustering for K=5\n",
      "For K: 5 and init method random-> Max iterations: 3  Cost: 53449.0 Time: 0.659 minutes\n",
      "Clustering for K=6\n",
      "For K: 6 and init method random-> Max iterations: 2  Cost: 52954.0 Time: 0.821 minutes\n",
      "Clustering for K=7\n",
      "For K: 7 and init method random-> Max iterations: 4  Cost: 50984.0 Time: 0.806 minutes\n",
      "Clustering for K=8\n",
      "For K: 8 and init method random-> Max iterations: 4  Cost: 50337.0 Time: 0.767 minutes\n",
      "Clustering for K=9\n",
      "For K: 9 and init method random-> Max iterations: 2  Cost: 50220.0 Time: 0.805 minutes\n",
      "Clustering for K=10\n",
      "For K: 10 and init method random-> Max iterations: 2  Cost: 49648.0 Time: 0.771 minutes\n",
      "Clustering for K=11\n",
      "For K: 11 and init method random-> Max iterations: 2  Cost: 49128.0 Time: 0.735 minutes\n",
      "Clustering for K=12\n",
      "For K: 12 and init method random-> Max iterations: 2  Cost: 48619.0 Time: 0.738 minutes\n",
      "Clustering for K=13\n",
      "For K: 13 and init method random-> Max iterations: 1  Cost: 48133.0 Time: 0.729 minutes\n",
      "Clustering for K=14\n",
      "For K: 14 and init method random-> Max iterations: 1  Cost: 47220.0 Time: 0.781 minutes\n",
      "Clustering for K=15\n",
      "For K: 15 and init method random-> Max iterations: 1  Cost: 46905.0 Time: 0.699 minutes\n",
      "Clustering for K=16\n",
      "For K: 16 and init method random-> Max iterations: 1  Cost: 46412.0 Time: 0.757 minutes\n",
      "Clustering for K=17\n",
      "For K: 17 and init method random-> Max iterations: 1  Cost: 46315.0 Time: 0.819 minutes\n",
      "Clustering for K=18\n",
      "For K: 18 and init method random-> Max iterations: 3  Cost: 46077.0 Time: 0.861 minutes\n",
      "Clustering for K=19\n",
      "For K: 19 and init method random-> Max iterations: 3  Cost: 45883.0 Time: 0.868 minutes\n",
      "Clustering for K=20\n",
      "For K: 20 and init method random-> Max iterations: 2  Cost: 45362.0 Time: 0.908 minutes\n"
     ]
    }
   ],
   "source": [
    "cluster_Ks = [1,2,3,4,5,6,7,8,9,10,11,12,13,14,15,16,17,18,19,20]\n",
    "matrix_K_categories = prepare_data_for_clustering(reviews_w_podcast_w_category, K)\n",
    "cost_per_K = []\n",
    "for K in cluster_Ks:\n",
    "    print(f'Clustering for K={K}')\n",
    "    data, centroids, cost = clustering(matrix_K_categories, K)\n",
    "    cost_per_K.append(cost)"
   ]
  },
  {
   "cell_type": "code",
   "execution_count": 34,
   "id": "e1876f4b",
   "metadata": {},
   "outputs": [
    {
     "data": {
      "image/png": "[encoded data removed]",
      "text/plain": [
       "<Figure size 640x480 with 1 Axes>"
      ]
     },
     "metadata": {},
     "output_type": "display_data"
    }
   ],
   "source": [
    "# plot costs with x axis integer values\n",
    "import matplotlib.pyplot as plt\n",
    "\n",
    "plt.plot(cluster_Ks, cost_per_K, 'bx-')\n",
    "plt.xlabel('K')\n",
    "plt.ylabel('Cost')\n",
    "plt.title('Cost per K')\n",
    "default_x_ticks = range(len(cluster_Ks))\n",
    "plt.xticks(default_x_ticks, cluster_Ks)\n",
    "plt.show()\n",
    "\n"
   ]
  },
  {
   "cell_type": "code",
   "execution_count": null,
   "id": "37537ed1",
   "metadata": {},
   "outputs": [],
   "source": []
  },
  {
   "cell_type": "code",
   "execution_count": 28,
   "id": "693e509c",
   "metadata": {},
   "outputs": [
    {
     "name": "stdout",
     "output_type": "stream",
     "text": [
      "For K: 7 and init method random-> Max iterations: 4  Cost: 50984.0 Time: 0.79 minutes\n"
     ]
    },
    {
     "ename": "ValueError",
     "evalue": "too many values to unpack (expected 2)",
     "output_type": "error",
     "traceback": [
      "\u001b[1;31m---------------------------------------------------------------------------\u001b[0m",
      "\u001b[1;31mValueError\u001b[0m                                Traceback (most recent call last)",
      "Cell \u001b[1;32mIn [28], line 1\u001b[0m\n\u001b[1;32m----> 1\u001b[0m authors_clustered, centroids \u001b[39m=\u001b[39m clustering(matrix_K_categories, \u001b[39m7\u001b[39m)\n",
      "\u001b[1;31mValueError\u001b[0m: too many values to unpack (expected 2)"
     ]
    }
   ],
   "source": [
    "authors_clustered, centroids = clustering(matrix_K_categories, 7)"
   ]
  },
  {
   "cell_type": "code",
   "execution_count": null,
   "id": "9ef4f63f",
   "metadata": {},
   "outputs": [
    {
     "name": "stdout",
     "output_type": "stream",
     "text": [
      "[['comedy' 'comedy' 'comedy' 'society-culture' 'comedy']\n",
      " ['sports' 'sports' 'sports' 'sports' 'sports']\n",
      " ['news' 'news' 'news' 'news' 'news']\n",
      " ['society-culture' 'society-culture' 'society-culture' 'society-culture'\n",
      "  'society-culture']\n",
      " ['kids-family' 'kids-family' 'kids-family' 'arts' 'kids-family']\n",
      " ['business' 'business' 'business' 'business' 'business']\n",
      " ['tv-film' 'tv-film' 'tv-film' 'tv-film' 'tv-film']]\n",
      "         author_id  cluster\n",
      "0  FFF559CD2875885        3\n",
      "1  FFF171657D896FA        0\n",
      "2  FFEF1081D4828D2        1\n",
      "3  FFEE0B290529BDE        1\n",
      "4  FFE6F75290CFE09        6\n"
     ]
    }
   ],
   "source": [
    "print(centroids)\n",
    "print(authors_clustered.head())"
   ]
  },
  {
   "cell_type": "code",
   "execution_count": null,
   "id": "85e6504f",
   "metadata": {},
   "outputs": [
    {
     "name": "stdout",
     "output_type": "stream",
     "text": [
      "category_0    society-culture\n",
      "category_1            tv-film\n",
      "category_2    society-culture\n",
      "category_3            tv-film\n",
      "category_4            tv-film\n",
      "Name: FFE6F75290CFE09, dtype: object\n"
     ]
    }
   ],
   "source": [
    "# print index FFF559CD2875885 from matrix_K_categories\n",
    "print(matrix_K_categories.loc['FFE6F75290CFE09'])"
   ]
  },
  {
   "cell_type": "code",
   "execution_count": null,
   "id": "44203c19",
   "metadata": {},
   "outputs": [],
   "source": []
  }
 ],
 "metadata": {
  "kernelspec": {
   "display_name": "Python 3.8.13 ('02807-CTfDS')",
   "language": "python",
   "name": "python3"
  },
  "language_info": {
   "codemirror_mode": {
    "name": "ipython",
    "version": 3
   },
   "file_extension": ".py",
   "mimetype": "text/x-python",
   "name": "python",
   "nbconvert_exporter": "python",
   "pygments_lexer": "ipython3",
   "version": "3.8.13"
  },
  "vscode": {
   "interpreter": {
    "hash": "f123d568e04b65a60863f3c5d16967e71f3a2a90d497fb88db32e2ca04b7195d"
   }
  }
 },
 "nbformat": 4,
 "nbformat_minor": 5
}

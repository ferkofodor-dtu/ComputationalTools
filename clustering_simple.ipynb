{
 "cells": [
  {
   "cell_type": "code",
   "execution_count": 14,
   "id": "daabf894",
   "metadata": {},
   "outputs": [],
   "source": [
    "import sqlite3\n",
    "import pandas as pd\n",
    "import matplotlib.pyplot as plt\n",
    "%matplotlib inline"
   ]
  },
  {
   "cell_type": "markdown",
   "id": "5b40327b",
   "metadata": {},
   "source": [
    "Printing/output settings"
   ]
  },
  {
   "cell_type": "code",
   "execution_count": 2,
   "id": "9ea8e39a",
   "metadata": {},
   "outputs": [],
   "source": [
    "pd.set_option('display.max_colwidth', None)"
   ]
  },
  {
   "cell_type": "markdown",
   "id": "618583f0",
   "metadata": {},
   "source": [
    "# Explanatory Data Analysis"
   ]
  },
  {
   "cell_type": "markdown",
   "id": "74a78f41",
   "metadata": {},
   "source": [
    "### Load data"
   ]
  },
  {
   "cell_type": "markdown",
   "id": "853d209a",
   "metadata": {},
   "source": [
    "We will load only positives reviews (rating > 3) from the database."
   ]
  },
  {
   "cell_type": "code",
   "execution_count": 4,
   "id": "ea5f3458",
   "metadata": {},
   "outputs": [],
   "source": [
    "reviews = pd.read_sql(f\"\"\"\n",
    "    SELECT podcast_id, author_id, rating, reviews.created_at , reviews.title, reviews.content \n",
    "    FROM reviews\n",
    "    Where rating > 3\n",
    "\"\"\", sqlite3.connect(\"initial_data/database.sqlite\"))\n",
    "\n",
    "podcast_w_category = pd.read_sql(f\"\"\"\n",
    "    SELECT podcast_id, title as p_title, category\n",
    "    FROM categories JOIN podcasts USING (podcast_id)\n",
    "\"\"\", sqlite3.connect(\"initial_data/database.sqlite\"))"
   ]
  },
  {
   "cell_type": "markdown",
   "id": "b0891918",
   "metadata": {},
   "source": [
    "Each podcast has multiple categories so we will concatenate them \n",
    "into a single string and will handle them as a single category for now."
   ]
  },
  {
   "cell_type": "code",
   "execution_count": 5,
   "id": "7c73143e",
   "metadata": {},
   "outputs": [],
   "source": [
    "# for each podcast, concatenate all categories once you sort them\n",
    "podcast_w_category = podcast_w_category.groupby(\"podcast_id\").agg({\"p_title\": \"first\", \"category\": lambda x: \"#\".join(sorted(x))}).reset_index()\n",
    "\n",
    "# sort by aurhor_id, podcast_id and created_at\n",
    "reviews = reviews.sort_values(by=['author_id', 'podcast_id', 'created_at'])"
   ]
  },
  {
   "cell_type": "markdown",
   "id": "ca5004d3",
   "metadata": {},
   "source": [
    "### Removing duplicates reviews\n",
    "Users might review a podcast more than once. We keep only the latest review."
   ]
  },
  {
   "cell_type": "code",
   "execution_count": 6,
   "id": "5fece4e1",
   "metadata": {},
   "outputs": [
    {
     "name": "stdout",
     "output_type": "stream",
     "text": [
      "Removed 59619 duplicates ~ 0.033% of total reviews\n"
     ]
    }
   ],
   "source": [
    "# check if there are any duplicates\n",
    "duplicates = reviews.duplicated(subset=['author_id','podcast_id'], keep='last')\n",
    "total_duplicates = duplicates.shape[0] - (duplicates.shape[0] - duplicates.sum())\n",
    "\n",
    "# remove based on boolean mask\n",
    "reviews = reviews[~duplicates]\n",
    "print(f'Removed {total_duplicates} duplicates ~ {round(duplicates.sum()/duplicates.shape[0],3)}% of total reviews')"
   ]
  },
  {
   "cell_type": "markdown",
   "id": "788ea290",
   "metadata": {},
   "source": [
    "### Removing reviews with podcast_id not in podcasts table\n",
    "There are reviews that their podcast id is not in the podcast table so we do not have any info about them."
   ]
  },
  {
   "cell_type": "code",
   "execution_count": 7,
   "id": "af490eac",
   "metadata": {},
   "outputs": [
    {
     "name": "stdout",
     "output_type": "stream",
     "text": [
      "Removed 21579 reviews ~ 0.012% of total reviews\n"
     ]
    }
   ],
   "source": [
    "# get all podcast ids in podcast_w_category\n",
    "pod_id_in_table = podcast_w_category['podcast_id'].unique()\n",
    "# remove all author ids that are in reviews but not in podcast_w_category\n",
    "before = reviews.shape[0]\n",
    "reviews = reviews[reviews['podcast_id'].isin(pod_id_in_table)]\n",
    "after = reviews.shape[0]\n",
    "print(f'Removed {before - after} reviews ~ {round((before - after)/before,3)}% of total reviews')"
   ]
  },
  {
   "cell_type": "markdown",
   "id": "461642cd",
   "metadata": {},
   "source": [
    "### Keeping only authors with more than N reviews"
   ]
  },
  {
   "cell_type": "code",
   "execution_count": 8,
   "id": "6d579cb9",
   "metadata": {},
   "outputs": [],
   "source": [
    "# Keep only authors with at least K reviews\n",
    "K = 5\n",
    "reviews = reviews.groupby('author_id').filter(lambda x: len(x) >= K)"
   ]
  },
  {
   "cell_type": "code",
   "execution_count": 9,
   "id": "6bbcdbe4",
   "metadata": {},
   "outputs": [
    {
     "name": "stdout",
     "output_type": "stream",
     "text": [
      "Unique authors: 18551\n",
      "Unique reviews: 156646\n"
     ]
    }
   ],
   "source": [
    "# print unique authors and reviews\n",
    "print(f'Unique authors: {reviews[\"author_id\"].unique().shape[0]}')\n",
    "print(f'Unique reviews: {reviews.shape[0]}')"
   ]
  },
  {
   "cell_type": "markdown",
   "id": "d87f930c",
   "metadata": {},
   "source": [
    "### Creating the final dataset"
   ]
  },
  {
   "cell_type": "code",
   "execution_count": 10,
   "id": "7fe7e0fc",
   "metadata": {},
   "outputs": [],
   "source": [
    "# merge reviews with podcast_w_category\n",
    "reviews_w_podcast_w_category = reviews.merge(podcast_w_category, on='podcast_id', how='inner')\n",
    "# keep only the columns we need\n",
    "reviews_w_podcast_w_category = reviews_w_podcast_w_category[['author_id', 'podcast_id', 'p_title', 'category', 'rating', 'created_at']]\n",
    "reviews_w_podcast_w_category = reviews_w_podcast_w_category.sort_values(by=['author_id', 'created_at'], ascending=False)"
   ]
  },
  {
   "cell_type": "code",
   "execution_count": null,
   "id": "5a3eafd6",
   "metadata": {},
   "outputs": [],
   "source": [
    "# clean memory\n",
    "del  reviews\n",
    "del podcast_w_category"
   ]
  },
  {
   "cell_type": "code",
   "execution_count": null,
   "id": "9688a50d",
   "metadata": {},
   "outputs": [],
   "source": [
    "### We have 3 ideas for the clustering:\n",
    "#  1. Cluster based on the average rating of the categories\n",
    "#       We will represent each author as a vector of size 108 (at the total number of most frequent categories)\n",
    "#       Each element of the vector will be the average rating of the author for the category\n",
    "#       We will use KMeans to cluster the authors\n",
    "\n",
    "#  2. Cluster based on the K most recent reviews\n",
    "#       We will represent each author as a vector of size K, where each element is a podcast title\n",
    "#       We will use KModes to cluster the authors\n",
    "#  3. Cluster based on the K most recent reviews\n",
    "\n",
    "#       We will represent each author as a vector of size K, where each element is a podcast category\n",
    "#       We will use KModes to cluster the authors\n"
   ]
  },
  {
   "cell_type": "markdown",
   "id": "a20a44de",
   "metadata": {},
   "source": [
    "### Clustering"
   ]
  },
  {
   "cell_type": "code",
   "execution_count": 16,
   "id": "2fe0f45c",
   "metadata": {},
   "outputs": [],
   "source": [
    "def prepare_data_for_clustering(data, K):\n",
    "    \"\"\"\n",
    "    data: dataframe with columns author_id, podcast_id, p_title, category, rating, created_at\n",
    "    K: number of most recent reviews to consider\n",
    "    \"\"\"\n",
    "    # get the K most recent reviews for each author\n",
    "    data = data.groupby('author_id').head(K)\n",
    "    authors = data['author_id'].unique()\n",
    "    total_authors = authors.shape[0]\n",
    "    print(f'Unique authors: {total_authors} with >={K} reviews')\n",
    "\n",
    "    # get the most frequent categories\n",
    "    category_freq = reviews_w_podcast_w_category['category'].str.split('#').explode().value_counts().to_dict()\n",
    "\n",
    "    # For each podcast category split the concatenated string into a list of categories and keep the \n",
    "    # most frequent category as the category of the podcast\n",
    "    data = data[['author_id', 'category', 'created_at']]\n",
    "    data['category'] = data['category'].str.split('#').apply(lambda x: max(x, key=lambda y: category_freq[y]))\n",
    "    \n",
    "\n",
    "    # represent each author as a vector of K categories\n",
    "    matrix_K_categories = pd.DataFrame(index=authors, columns=['category_' + str(i) for i in range(K)])\n",
    "    matrix_K_categories = matrix_K_categories.fillna(\"empty\")\n",
    "    # fill the matrix with the average rating of the author for the podcast title in order\n",
    "    for index, author in enumerate (authors):\n",
    "        index = index + 1\n",
    "        categories = data[data['author_id'] == author]['category'].values\n",
    "        for i in range(K):\n",
    "            matrix_K_categories.loc[author, 'category_' + str(i)] = categories[i]\n",
    "        if index % 3000 == 0:\n",
    "            print(f'{index} authors processed')    \n",
    "\n",
    "\n",
    "    return matrix_K_categories"
   ]
  },
  {
   "cell_type": "code",
   "execution_count": 17,
   "id": "92154a91",
   "metadata": {},
   "outputs": [
    {
     "name": "stdout",
     "output_type": "stream",
     "text": [
      "Unique authors: 18551 with >=5 reviews\n",
      "3000 authors processed\n",
      "6000 authors processed\n",
      "9000 authors processed\n",
      "12000 authors processed\n",
      "15000 authors processed\n",
      "18000 authors processed\n"
     ]
    }
   ],
   "source": [
    "matrix_K_categories = prepare_data_for_clustering(reviews_w_podcast_w_category, 5)"
   ]
  },
  {
   "cell_type": "code",
   "execution_count": null,
   "id": "ae12382e",
   "metadata": {},
   "outputs": [],
   "source": [
    "def clustering(data, num_of_clusters, plot=False):\n",
    "    # Categorical data clustering\n",
    "    # Check source: https://www.analyticsvidhya.com/blog/2021/06/kmodes-clustering-algorithm-for-categorical-data/\n",
    "    # Check source: https://medium.com/geekculture/the-k-modes-as-clustering-algorithm-for-categorical-data-type-bcde8f95efd7\n",
    "\n",
    "    data = data.astype('str')\n",
    "\n",
    "    from kmodes.kmodes import KModes\n",
    "    import matplotlib.pyplot as plt\n",
    "    import numpy as np\n",
    "\n",
    "    centroids = None\n",
    "\n",
    "    import time\n",
    "\n",
    "    start_time = time.time()\n",
    "    # create a KMeans instance with k clusters\n",
    "    kmodes = KModes(n_clusters=num_of_clusters, init = 'random', verbose=0 , max_iter=100, n_jobs=1, random_state=42)\n",
    "    # fit the model to the matrix\n",
    "    kmodes.fit(data)\n",
    "    end_time = time.time()\n",
    "    # info about the clustering\n",
    "    print(f\"For K: {num_of_clusters} and init method random-> Max iterations: {kmodes.n_iter_}  Cost: {kmodes.cost_} Time: {round((end_time - start_time)/60,3)} minutes\")\n",
    "    # get centroids\n",
    "    centroids = kmodes.cluster_centroids_\n",
    "    #print(f\"Centroids: {centroids}\")\n",
    "    # get labels\n",
    "    data['cluster'] = kmodes.labels_\n",
    "\n",
    "    return data, centroids\n"
   ]
  },
  {
   "cell_type": "code",
   "execution_count": 20,
   "id": "053884d6",
   "metadata": {},
   "outputs": [
    {
     "name": "stderr",
     "output_type": "stream",
     "text": [
      "C:\\Users\\staur\\AppData\\Local\\Temp\\ipykernel_20408\\3989305834.py:4: SettingWithCopyWarning: \n",
      "A value is trying to be set on a copy of a slice from a DataFrame.\n",
      "Try using .loc[row_indexer,col_indexer] = value instead\n",
      "\n",
      "See the caveats in the documentation: https://pandas.pydata.org/pandas-docs/stable/user_guide/indexing.html#returning-a-view-versus-a-copy\n",
      "  datapoints['category'] = datapoints['category'].str.split('#').apply(lambda x: max(x, key=lambda y: category_freq[y]))\n"
     ]
    },
    {
     "name": "stdout",
     "output_type": "stream",
     "text": [
      "3000 authors processed\n",
      "6000 authors processed\n",
      "9000 authors processed\n",
      "12000 authors processed\n",
      "15000 authors processed\n",
      "18000 authors processed\n"
     ]
    }
   ],
   "source": [
    "# Idea 3\n",
    "# Each author is a datapoint with K features (podcast categories)\n",
    "datapoints = reviews_w_podcast_w_category_k[['author_id', 'category', 'created_at', 'rating']]\n",
    "datapoints['category'] = datapoints['category'].str.split('#').apply(lambda x: max(x, key=lambda y: category_freq[y]))\n",
    "# populate the matrix\n",
    "matrix_K_categories = pd.DataFrame(index=authors, columns=['category_' + str(i) for i in range(K)])\n",
    "matrix_K_categories = matrix_K_categories.fillna(\"empty\")\n",
    "# fill the matrix with the average rating of the author for the podcast title in order\n",
    "for index, author in enumerate (authors):\n",
    "    index = index + 1\n",
    "    categories = datapoints[datapoints['author_id'] == author]['category'].values\n",
    "    for i in range(K):\n",
    "        matrix_K_categories.loc[author, 'category_' + str(i)] = categories[i]\n",
    "    if index % 3000 == 0:\n",
    "        print(f'{index} authors processed')"
   ]
  },
  {
   "cell_type": "code",
   "execution_count": 21,
   "id": "7118bfa1",
   "metadata": {},
   "outputs": [
    {
     "name": "stdout",
     "output_type": "stream",
     "text": [
      "                      category_0 category_1       category_2  category_3  \\\n",
      "FFF559CD2875885           comedy    tv-film  society-culture  true-crime   \n",
      "FFF171657D896FA           comedy       arts           comedy      comedy   \n",
      "FFEF1081D4828D2             news     sports      kids-family     tv-film   \n",
      "FFEE0B290529BDE           sports     sports             news      sports   \n",
      "FFE6F75290CFE09  society-culture    tv-film  society-culture     tv-film   \n",
      "\n",
      "                            category_4  \n",
      "FFF559CD2875885        society-culture  \n",
      "FFF171657D896FA        society-culture  \n",
      "FFEF1081D4828D2                science  \n",
      "FFEE0B290529BDE  religion-spirituality  \n",
      "FFE6F75290CFE09                tv-film  \n"
     ]
    }
   ],
   "source": [
    "print(matrix_K_categories.head())"
   ]
  },
  {
   "cell_type": "code",
   "execution_count": 23,
   "id": "3fe71001",
   "metadata": {},
   "outputs": [
    {
     "name": "stdout",
     "output_type": "stream",
     "text": [
      "(18551, 5)\n",
      "For K: 2 and init method random-> Max iterations: 1  Cost: 64461.0 Time: 0.487 minutes\n",
      "For K: 3 and init method random-> Max iterations: 2  Cost: 58311.0 Time: 0.59 minutes\n",
      "For K: 4 and init method random-> Max iterations: 3  Cost: 55773.0 Time: 0.667 minutes\n",
      "For K: 5 and init method random-> Max iterations: 3  Cost: 53449.0 Time: 0.647 minutes\n",
      "For K: 6 and init method random-> Max iterations: 2  Cost: 52954.0 Time: 0.797 minutes\n",
      "For K: 7 and init method random-> Max iterations: 4  Cost: 50984.0 Time: 0.78 minutes\n",
      "For K: 8 and init method random-> Max iterations: 4  Cost: 50337.0 Time: 0.756 minutes\n",
      "For K: 9 and init method random-> Max iterations: 2  Cost: 50220.0 Time: 0.8 minutes\n",
      "For K: 10 and init method random-> Max iterations: 2  Cost: 49648.0 Time: 0.757 minutes\n",
      "For K: 11 and init method random-> Max iterations: 2  Cost: 49128.0 Time: 0.72 minutes\n",
      "For K: 12 and init method random-> Max iterations: 2  Cost: 48619.0 Time: 0.741 minutes\n",
      "For K: 13 and init method random-> Max iterations: 1  Cost: 48133.0 Time: 0.858 minutes\n",
      "For K: 14 and init method random-> Max iterations: 1  Cost: 47220.0 Time: 0.686 minutes\n",
      "For K: 15 and init method random-> Max iterations: 1  Cost: 46905.0 Time: 0.722 minutes\n"
     ]
    },
    {
     "data": {
      "image/png": "[encoded data removed]",
      "text/plain": [
       "<Figure size 640x480 with 1 Axes>"
      ]
     },
     "metadata": {},
     "output_type": "display_data"
    }
   ],
   "source": [
    "# Categorical data clustering\n",
    "# Import the necessary packages\n",
    "\n",
    "# Check source: https://www.analyticsvidhya.com/blog/2021/06/kmodes-clustering-algorithm-for-categorical-data/\n",
    "# Check source: https://medium.com/geekculture/the-k-modes-as-clustering-algorithm-for-categorical-data-type-bcde8f95efd7\n",
    "matrix_K_categories = matrix_K_categories.astype('str')\n",
    "print(matrix_K_categories.shape)\n",
    "from kmodes.kmodes import KModes\n",
    "import matplotlib.pyplot as plt\n",
    "import numpy as np\n",
    "\n",
    "# create a list of K values\n",
    "# K_clusters = list(range(2, 25))\n",
    "# K_clusters.extend([30,35,40,50,60])\n",
    "K_clusters = [2,3,4,5,6,7,8,9,10,11,12,13,14,15]\n",
    "# create a list of silhouette scores\n",
    "cost = []\n",
    "# create a df\n",
    "cost_per_intial = pd.DataFrame(columns=['random', 'Cao', 'Huang'])\n",
    "# loop over K values\n",
    "import time\n",
    "initials = [\"random\",\"Cao\",\"Huang\"]\n",
    "for k in K_clusters:\n",
    "    start_time = time.time()\n",
    "    # create a KMeans instance with k clusters\n",
    "    kmodes = KModes(n_clusters=k, init = 'random', verbose=0 , max_iter=100, n_jobs=1, random_state=42)\n",
    "    # fit the model to the matrix\n",
    "    kmodes.fit(matrix_K_categories)\n",
    "    # get the cost\n",
    "    cost.append(kmodes.cost_)\n",
    "    # print max iterations of the algorithm\n",
    "    end_time = time.time()\n",
    "    print(f\"For K: {k} and init method {initials[0]}-> Max iterations: {kmodes.n_iter_}  Cost: {kmodes.cost_} Time: {round((end_time - start_time)/60,3)} minutes\")\n",
    "    # get centroids\n",
    "    #print(f\"Centroids: {kmodes.cluster_centroids_}\")\n",
    "\n",
    "# plot the results\n",
    "plt.plot(K_clusters, cost, 'bx-')\n",
    "plt.xlabel('No. of clusters')\n",
    "plt.ylabel('Cost')\n",
    "plt.title('Elbow Method For Optimal k')\n",
    "plt.show()"
   ]
  },
  {
   "cell_type": "code",
   "execution_count": 24,
   "id": "561cb016",
   "metadata": {},
   "outputs": [
    {
     "name": "stdout",
     "output_type": "stream",
     "text": [
      "For K: 7 and init method random-> Max iterations: 4  Cost: 50984.0 Time: 0.786 minutes\n"
     ]
    }
   ],
   "source": [
    "\n",
    "start_time = time.time()\n",
    "# create a KMeans instance with k clusters\n",
    "kmodes = KModes(n_clusters=7, init = 'random', verbose=0 , max_iter=100, n_jobs=1, random_state=42)\n",
    "# fit the model to the matrix\n",
    "kmodes.fit(matrix_K_categories)\n",
    "# get the cost\n",
    "cost.append(kmodes.cost_)\n",
    "# print max iterations of the algorithm\n",
    "end_time = time.time()\n",
    "print(f\"For K: {7} and init method {initials[0]}-> Max iterations: {kmodes.n_iter_}  Cost: {kmodes.cost_} Time: {round((end_time - start_time)/60,3)} minutes\")\n",
    "# get centroids\n",
    "#print(f\"Centroids: {kmodes.cluster_centroids_}\")\n",
    "\n",
    "# Assign the cluster labels to the a temp matrix\n",
    "matrix_K_categories['cluster'] = kmodes.labels_"
   ]
  },
  {
   "cell_type": "code",
   "execution_count": 26,
   "id": "1c2e8a46",
   "metadata": {},
   "outputs": [
    {
     "data": {
      "text/html": [
       "<div>\n",
       "<style scoped>\n",
       "    .dataframe tbody tr th:only-of-type {\n",
       "        vertical-align: middle;\n",
       "    }\n",
       "\n",
       "    .dataframe tbody tr th {\n",
       "        vertical-align: top;\n",
       "    }\n",
       "\n",
       "    .dataframe thead th {\n",
       "        text-align: right;\n",
       "    }\n",
       "</style>\n",
       "<table border=\"1\" class=\"dataframe\">\n",
       "  <thead>\n",
       "    <tr style=\"text-align: right;\">\n",
       "      <th></th>\n",
       "      <th>category_0</th>\n",
       "      <th>category_1</th>\n",
       "      <th>category_2</th>\n",
       "      <th>category_3</th>\n",
       "      <th>category_4</th>\n",
       "      <th>cluster</th>\n",
       "    </tr>\n",
       "  </thead>\n",
       "  <tbody>\n",
       "    <tr>\n",
       "      <th>FFF559CD2875885</th>\n",
       "      <td>comedy</td>\n",
       "      <td>tv-film</td>\n",
       "      <td>society-culture</td>\n",
       "      <td>true-crime</td>\n",
       "      <td>society-culture</td>\n",
       "      <td>3</td>\n",
       "    </tr>\n",
       "    <tr>\n",
       "      <th>FFF171657D896FA</th>\n",
       "      <td>comedy</td>\n",
       "      <td>arts</td>\n",
       "      <td>comedy</td>\n",
       "      <td>comedy</td>\n",
       "      <td>society-culture</td>\n",
       "      <td>0</td>\n",
       "    </tr>\n",
       "    <tr>\n",
       "      <th>FFEF1081D4828D2</th>\n",
       "      <td>news</td>\n",
       "      <td>sports</td>\n",
       "      <td>kids-family</td>\n",
       "      <td>tv-film</td>\n",
       "      <td>science</td>\n",
       "      <td>1</td>\n",
       "    </tr>\n",
       "    <tr>\n",
       "      <th>FFEE0B290529BDE</th>\n",
       "      <td>sports</td>\n",
       "      <td>sports</td>\n",
       "      <td>news</td>\n",
       "      <td>sports</td>\n",
       "      <td>religion-spirituality</td>\n",
       "      <td>1</td>\n",
       "    </tr>\n",
       "    <tr>\n",
       "      <th>FFE6F75290CFE09</th>\n",
       "      <td>society-culture</td>\n",
       "      <td>tv-film</td>\n",
       "      <td>society-culture</td>\n",
       "      <td>tv-film</td>\n",
       "      <td>tv-film</td>\n",
       "      <td>6</td>\n",
       "    </tr>\n",
       "  </tbody>\n",
       "</table>\n",
       "</div>"
      ],
      "text/plain": [
       "                      category_0 category_1       category_2  category_3  \\\n",
       "FFF559CD2875885           comedy    tv-film  society-culture  true-crime   \n",
       "FFF171657D896FA           comedy       arts           comedy      comedy   \n",
       "FFEF1081D4828D2             news     sports      kids-family     tv-film   \n",
       "FFEE0B290529BDE           sports     sports             news      sports   \n",
       "FFE6F75290CFE09  society-culture    tv-film  society-culture     tv-film   \n",
       "\n",
       "                            category_4  cluster  \n",
       "FFF559CD2875885        society-culture        3  \n",
       "FFF171657D896FA        society-culture        0  \n",
       "FFEF1081D4828D2                science        1  \n",
       "FFEE0B290529BDE  religion-spirituality        1  \n",
       "FFE6F75290CFE09                tv-film        6  "
      ]
     },
     "execution_count": 26,
     "metadata": {},
     "output_type": "execute_result"
    }
   ],
   "source": [
    "# count the number of datapoints in each cluster\n",
    "matrix_K_categories['cluster'].value_counts()\n",
    "matrix_K_categories.head()\n"
   ]
  },
  {
   "cell_type": "code",
   "execution_count": 28,
   "id": "86f745a4",
   "metadata": {},
   "outputs": [],
   "source": [
    "# user index as author_id column\n",
    "temp2 = matrix_K_categories.reset_index()\n",
    "temp2 = temp2.rename(columns={'index': 'author_id'})\n",
    "temp2.head()\n",
    "\n",
    "#store to csv only the author_id and cluster\n",
    "temp2[['author_id', 'cluster']].to_csv('author_clusters_7.csv', index=False)\n",
    "\n"
   ]
  },
  {
   "cell_type": "code",
   "execution_count": 51,
   "id": "27ed71c0",
   "metadata": {},
   "outputs": [],
   "source": [
    "# Assign the cluster labels to the matrix\n",
    "matrix_K_categories['cluster'] = kmodes.labels_"
   ]
  },
  {
   "cell_type": "code",
   "execution_count": 52,
   "id": "c51e12cf",
   "metadata": {},
   "outputs": [
    {
     "name": "stdout",
     "output_type": "stream",
     "text": [
      "(18551, 2)\n",
      "Index(['author_id', 'cluster'], dtype='object')\n",
      "52    1789\n",
      "3      679\n",
      "25     618\n",
      "33     578\n",
      "28     539\n",
      "22     480\n",
      "10     476\n",
      "39     466\n",
      "47     449\n",
      "26     437\n",
      "32     384\n",
      "1      378\n",
      "6      366\n",
      "5      357\n",
      "43     350\n",
      "38     347\n",
      "46     336\n",
      "53     332\n",
      "41     321\n",
      "17     297\n",
      "0      295\n",
      "44     295\n",
      "18     291\n",
      "50     286\n",
      "9      281\n",
      "8      278\n",
      "45     275\n",
      "54     269\n",
      "31     266\n",
      "24     264\n",
      "55     259\n",
      "21     259\n",
      "13     255\n",
      "49     250\n",
      "14     250\n",
      "51     249\n",
      "20     247\n",
      "29     245\n",
      "40     239\n",
      "42     236\n",
      "35     229\n",
      "56     219\n",
      "23     216\n",
      "4      211\n",
      "59     200\n",
      "19     185\n",
      "58     183\n",
      "27     179\n",
      "34     170\n",
      "30     162\n",
      "11     159\n",
      "12     158\n",
      "15     156\n",
      "7      151\n",
      "48     138\n",
      "16     138\n",
      "2      135\n",
      "37     119\n",
      "57     100\n",
      "36      75\n",
      "Name: cluster, dtype: int64\n",
      "             author_id  cluster  count  percentage\n",
      "0      FFF559CD2875885       20      1    0.013315\n",
      "12320  5576E7A240E784F        8      1    0.014986\n",
      "12372  54CC11D3FF9ACDE        3      1    0.036602\n",
      "12371  54CCD63D01E388D        3      1    0.036602\n",
      "12370  54D19BA9F622096       25      1    0.033314\n",
      "...                ...      ...    ...         ...\n",
      "6183   A9DCAC1EAE6E773       56      1    0.011805\n",
      "6182   A9E04F8A04BDD37       17      1    0.016010\n",
      "6181   A9E2E52D8DEFD12       50      1    0.015417\n",
      "6180   A9E7F514829727E       56      1    0.011805\n",
      "18550  000303F51BFEAE2       41      1    0.017304\n",
      "\n",
      "[18551 rows x 4 columns]\n",
      "    cluster  author_id  count  percentage\n",
      "0         0      16348  16348    0.016667\n",
      "13       13        169    169    0.016667\n",
      "33       33        157    157    0.016667\n",
      "4         4        132    132    0.016667\n",
      "49       49        102    102    0.016667\n",
      "41       41         89     89    0.016667\n",
      "21       21         83     83    0.016667\n",
      "39       39         70     70    0.016667\n",
      "23       23         67     67    0.016667\n",
      "51       51         64     64    0.016667\n",
      "16       16         63     63    0.016667\n",
      "35       35         61     61    0.016667\n",
      "34       34         59     59    0.016667\n",
      "59       59         58     58    0.016667\n",
      "42       42         51     51    0.016667\n",
      "7         7         50     50    0.016667\n",
      "38       38         49     49    0.016667\n",
      "12       12         46     46    0.016667\n",
      "8         8         44     44    0.016667\n",
      "56       56         43     43    0.016667\n",
      "46       46         42     42    0.016667\n",
      "55       55         41     41    0.016667\n",
      "22       22         41     41    0.016667\n",
      "2         2         34     34    0.016667\n",
      "29       29         34     34    0.016667\n",
      "26       26         33     33    0.016667\n",
      "43       43         32     32    0.016667\n",
      "40       40         32     32    0.016667\n",
      "44       44         31     31    0.016667\n",
      "9         9         27     27    0.016667\n",
      "37       37         26     26    0.016667\n",
      "53       53         26     26    0.016667\n",
      "5         5         23     23    0.016667\n",
      "48       48         23     23    0.016667\n",
      "15       15         21     21    0.016667\n",
      "24       24         21     21    0.016667\n",
      "31       31         20     20    0.016667\n",
      "47       47         20     20    0.016667\n",
      "11       11         20     20    0.016667\n",
      "32       32         18     18    0.016667\n",
      "27       27         18     18    0.016667\n",
      "52       52         16     16    0.016667\n",
      "6         6         16     16    0.016667\n",
      "20       20         15     15    0.016667\n",
      "17       17         12     12    0.016667\n",
      "1         1         12     12    0.016667\n",
      "10       10         11     11    0.016667\n",
      "30       30         10     10    0.016667\n",
      "25       25         10     10    0.016667\n",
      "57       57          9      9    0.016667\n",
      "58       58          9      9    0.016667\n",
      "45       45          7      7    0.016667\n",
      "3         3          7      7    0.016667\n",
      "36       36          6      6    0.016667\n",
      "54       54          6      6    0.016667\n",
      "19       19          6      6    0.016667\n",
      "50       50          5      5    0.016667\n",
      "14       14          3      3    0.016667\n",
      "18       18          2      2    0.016667\n",
      "28       28          1      1    0.016667\n",
      "    cluster  author_id  count  percentage\n",
      "0         0       3945   3945    0.016667\n",
      "2         2       1662   1662    0.016667\n",
      "7         7       1199   1199    0.016667\n",
      "9         9       1060   1060    0.016667\n",
      "3         3        635    635    0.016667\n",
      "18       18        598    598    0.016667\n",
      "5         5        597    597    0.016667\n",
      "14       14        425    425    0.016667\n",
      "17       17        416    416    0.016667\n",
      "19       19        407    407    0.016667\n",
      "22       22        369    369    0.016667\n",
      "32       32        354    354    0.016667\n",
      "1         1        349    349    0.016667\n",
      "34       34        324    324    0.016667\n",
      "13       13        313    313    0.016667\n",
      "6         6        310    310    0.016667\n",
      "27       27        298    298    0.016667\n",
      "25       25        292    292    0.016667\n",
      "4         4        250    250    0.016667\n",
      "16       16        227    227    0.016667\n",
      "24       24        211    211    0.016667\n",
      "20       20        206    206    0.016667\n",
      "15       15        204    204    0.016667\n",
      "12       12        194    194    0.016667\n",
      "8         8        192    192    0.016667\n",
      "30       30        186    186    0.016667\n",
      "29       29        180    180    0.016667\n",
      "39       39        179    179    0.016667\n",
      "52       52        163    163    0.016667\n",
      "40       40        151    151    0.016667\n",
      "23       23        146    146    0.016667\n",
      "51       51        138    138    0.016667\n",
      "36       36        126    126    0.016667\n",
      "56       56        124    124    0.016667\n",
      "31       31        122    122    0.016667\n",
      "26       26        116    116    0.016667\n",
      "57       57        116    116    0.016667\n",
      "43       43        111    111    0.016667\n",
      "53       53        103    103    0.016667\n",
      "58       58        100    100    0.016667\n",
      "59       59         98     98    0.016667\n",
      "48       48         98     98    0.016667\n",
      "28       28         98     98    0.016667\n",
      "42       42         96     96    0.016667\n",
      "33       33         95     95    0.016667\n",
      "45       45         93     93    0.016667\n",
      "10       10         92     92    0.016667\n",
      "11       11         91     91    0.016667\n",
      "49       49         80     80    0.016667\n",
      "21       21         77     77    0.016667\n",
      "35       35         66     66    0.016667\n",
      "38       38         66     66    0.016667\n",
      "41       41         64     64    0.016667\n",
      "46       46         62     62    0.016667\n",
      "37       37         59     59    0.016667\n",
      "54       54         58     58    0.016667\n",
      "47       47         47     47    0.016667\n",
      "44       44         42     42    0.016667\n",
      "55       55         38     38    0.016667\n",
      "50       50         33     33    0.016667\n"
     ]
    }
   ],
   "source": [
    "# Idea 1 results\n",
    "# get unique authors and their cluster labels\n",
    "authors_clusters_1 = matrix_all_categories[['cluster']].reset_index().drop_duplicates()\n",
    "# make author_id a column\n",
    "authors_clusters_1 = authors_clusters_1.rename(columns={'index': 'author_id'})\n",
    "print(authors_clusters_1.shape)\n",
    "print(authors_clusters_1.columns)\n",
    "\n",
    "# get the number of authors in each cluster as percentage\n",
    "authors_clusters_1['count'] = 1\n",
    "authors_clusters_1_count = authors_clusters_1.groupby('cluster').count().reset_index()\n",
    "authors_clusters_1['percentage'] = authors_clusters_1.groupby('cluster')['author_id'].transform('count')/authors_clusters_1.shape[0]\n",
    "authors_clusters_1 = authors_clusters_1.sort_values(by='count', ascending=False)\n",
    "print(authors_clusters_1['cluster'].value_counts())\n",
    "print(authors_clusters_1)\n",
    "authors_clusters_1_result = authors_clusters_1[['author_id', 'cluster']]\n",
    "\n",
    "# Idea 2 results\n",
    "authors_clusters_2 = matrix_K_titles[['cluster']].reset_index().drop_duplicates()\n",
    "# make author_id a column\n",
    "authors_clusters_2 = authors_clusters_2.rename(columns={'index': 'author_id'})\n",
    "# get the number of authors in each cluster\n",
    "authors_clusters_2['count'] = 1\n",
    "authors_clusters_2 = authors_clusters_2.groupby('cluster').count().reset_index()\n",
    "authors_clusters_2['percentage'] = authors_clusters_2.groupby('cluster')['author_id'].transform('count')/authors_clusters_2.shape[0]\n",
    "authors_clusters_2 = authors_clusters_2.sort_values(by='count', ascending=False)\n",
    "print(authors_clusters_2)\n",
    "authors_clusters_2_result = authors_clusters_2[['author_id', 'cluster']]\n",
    "\n",
    "# Idea 3 results\n",
    "authors_clusters_3 = matrix_K_categories[['cluster']].reset_index().drop_duplicates()\n",
    "# make author_id a column\n",
    "authors_clusters_3 = authors_clusters_3.rename(columns={'index': 'author_id'})\n",
    "# get the number of authors in each cluster\n",
    "authors_clusters_3['count'] = 1\n",
    "authors_clusters_3 = authors_clusters_3.groupby('cluster').count().reset_index()\n",
    "authors_clusters_3['percentage'] = authors_clusters_3.groupby('cluster')['author_id'].transform('count')/authors_clusters_3.shape[0]\n",
    "authors_clusters_3 = authors_clusters_3.sort_values(by='count', ascending=False)\n",
    "print(authors_clusters_3)\n",
    "# get only author_id and cluster\n",
    "authors_clusters_3_result = authors_clusters_3[['author_id', 'cluster']]\n",
    "\n",
    "# store the results\n",
    "authors_clusters_1_result.to_csv('authors_clusters_1_5rev_random_result.csv', index=False)\n",
    "authors_clusters_2_result.to_csv('authors_clusters_2_5rev_random_result.csv', index=False)\n",
    "authors_clusters_3_result.to_csv('authors_clusters_3_5rev_random_result.csv', index=False)"
   ]
  }
 ],
 "metadata": {
  "kernelspec": {
   "display_name": "Python 3.8.13 ('02807-CTfDS')",
   "language": "python",
   "name": "python3"
  },
  "language_info": {
   "codemirror_mode": {
    "name": "ipython",
    "version": 3
   },
   "file_extension": ".py",
   "mimetype": "text/x-python",
   "name": "python",
   "nbconvert_exporter": "python",
   "pygments_lexer": "ipython3",
   "version": "3.8.13"
  },
  "vscode": {
   "interpreter": {
    "hash": "f123d568e04b65a60863f3c5d16967e71f3a2a90d497fb88db32e2ca04b7195d"
   }
  }
 },
 "nbformat": 4,
 "nbformat_minor": 5
}
